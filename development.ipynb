{
 "cells": [
  {
   "cell_type": "code",
   "execution_count": 27,
   "metadata": {},
   "outputs": [],
   "source": [
    "import torch\n",
    "from tqdm import tqdm\n",
    "import argparse\n",
    "\n",
    "import os\n",
    "os.environ[\"CUDA_VISIBLE_DEVICES\"] = \"3,4\"\n",
    "\n",
    "import objgraph\n",
    "\n",
    "import time\n",
    "import utils\n",
    "from result_tracking import ThinkerwiseResultTracker\n",
    "\n",
    "from dn3.configuratron import ExperimentConfig\n",
    "from dn3.data.dataset import Thinker\n",
    "from dn3.trainable.processes import StandardClassification\n",
    "\n",
    "from dn3_ext import BENDRClassification, LinearHeadBENDR\n",
    "from matplotlib import pyplot as plt"
   ]
  },
  {
   "cell_type": "code",
   "execution_count": 2,
   "metadata": {},
   "outputs": [],
   "source": [
    "from dotmap import DotMap"
   ]
  },
  {
   "cell_type": "code",
   "execution_count": 3,
   "metadata": {},
   "outputs": [],
   "source": [
    "args = DotMap()"
   ]
  },
  {
   "cell_type": "code",
   "execution_count": 4,
   "metadata": {},
   "outputs": [],
   "source": [
    "args.model = \"BENDR\"\n",
    "args.ds_config = \"configs/downstream.yml\"\n",
    "args.metrics_config = \"configs/metrics.yml\"\n",
    "args.subject_specific = False\n",
    "args.mdl = False\n",
    "args.freeze_encoder = False\n",
    "args.random_init = False\n",
    "args.multi_gpu = True\n",
    "args.num_workers = 4\n",
    "args.results_filename = None"
   ]
  },
  {
   "cell_type": "code",
   "execution_count": 5,
   "metadata": {},
   "outputs": [
    {
     "data": {
      "text/plain": [
       "'configs/downstream.yml'"
      ]
     },
     "execution_count": 5,
     "metadata": {},
     "output_type": "execute_result"
    }
   ],
   "source": [
    "args.ds_config"
   ]
  },
  {
   "cell_type": "code",
   "execution_count": 6,
   "metadata": {},
   "outputs": [
    {
     "name": "stdout",
     "output_type": "stream",
     "text": [
      "Adding additional configuration entries: dict_keys(['train_params', 'lr', 'folds'])\n",
      "Configuratron found 1 datasets.\n"
     ]
    }
   ],
   "source": [
    "experiment = ExperimentConfig(args.ds_config)"
   ]
  },
  {
   "cell_type": "code",
   "execution_count": 7,
   "metadata": {},
   "outputs": [],
   "source": [
    "data = experiment.datasets[\"mmidb\"]"
   ]
  },
  {
   "cell_type": "code",
   "execution_count": 8,
   "metadata": {},
   "outputs": [],
   "source": [
    "ds_name, ds = list(experiment.datasets.items())[0]"
   ]
  },
  {
   "cell_type": "code",
   "execution_count": 9,
   "metadata": {},
   "outputs": [],
   "source": [
    "added_metrics, retain_best, _ = utils.get_ds_added_metrics(ds_name, args.metrics_config)"
   ]
  },
  {
   "cell_type": "code",
   "execution_count": 10,
   "metadata": {},
   "outputs": [
    {
     "name": "stderr",
     "output_type": "stream",
     "text": [
      "Scanning data/datasets/eegmmidb. If there are a lot of files, this may take a while...: 100%|██████████| 4/4 [00:00<00:00, 13.23it/s, extension=.gdf]\n"
     ]
    },
    {
     "name": "stdout",
     "output_type": "stream",
     "text": [
      "Creating dataset of 315 Preloaded Epoched recordings from 105 people.\n"
     ]
    },
    {
     "name": "stderr",
     "output_type": "stream",
     "text": [
      "Loading Physionet MMIDB: 100%|██████████| 105/105 [00:11<00:00,  9.03person/s]\n"
     ]
    },
    {
     "name": "stdout",
     "output_type": "stream",
     "text": [
      ">> Physionet MMIDB | DSID: None | 105 people | 4408 trials | 90 channels | 1536 samples/trial | 256Hz | 0 transforms\n",
      "Constructed 1 channel maps\n",
      "====================\n",
      "Used by 315 recordings:\n",
      "EEG (original(new)): Fc5.(FC5) Fc3.(FC3) Fc1.(FC1) Fcz.(FCZ) Fc2.(FC2) Fc4.(FC4) Fc6.(FC6) C5..(C5) C3..(C3) C1..(C1) Cz..(CZ) C2..(C2) C4..(C4) C6..(C6) Cp5.(CP5) Cp3.(CP3) Cp1.(CP1) Cpz.(CPZ) Cp2.(CP2) Cp4.(CP4) Cp6.(CP6) Fp1.(FP1) Fpz.(FPZ) Fp2.(FP2) Af7.(AF7) Af3.(AF3) Afz.(AFZ) Af4.(AF4) Af8.(AF8) F7..(F7) F5..(F5) F3..(F3) F1..(F1) Fz..(FZ) F2..(F2) F4..(F4) F6..(F6) F8..(F8) Ft7.(FT7) Ft8.(FT8) T7..(T7) T8..(T8) T9..(T9) T10.(T10) Tp7.(TP7) Tp8.(TP8) P7..(P7) P5..(P5) P3..(P3) P1..(P1) Pz..(PZ) P2..(P2) P4..(P4) P6..(P6) P8..(P8) Po7.(PO7) Po3.(PO3) Poz.(POZ) Po4.(PO4) Po8.(PO8) O1..(O1) Oz..(OZ) O2..(O2) Iz..(IZ) \n",
      "EOG (original(new)): \n",
      "REF (original(new)): \n",
      "EXTRA (original(new)): \n",
      "Heuristically Assigned: Fc5.(FC5)  Fc3.(FC3)  Fc1.(FC1)  Fcz.(FCZ)  Fc2.(FC2)  Fc4.(FC4)  Fc6.(FC6)  C5..(C5)  C3..(C3)  C1..(C1)  Cz..(CZ)  C2..(C2)  C4..(C4)  C6..(C6)  Cp5.(CP5)  Cp3.(CP3)  Cp1.(CP1)  Cpz.(CPZ)  Cp2.(CP2)  Cp4.(CP4)  Cp6.(CP6)  Fp1.(FP1)  Fpz.(FPZ)  Fp2.(FP2)  Af7.(AF7)  Af3.(AF3)  Afz.(AFZ)  Af4.(AF4)  Af8.(AF8)  F7..(F7)  F5..(F5)  F3..(F3)  F1..(F1)  Fz..(FZ)  F2..(F2)  F4..(F4)  F6..(F6)  F8..(F8)  Ft7.(FT7)  Ft8.(FT8)  T7..(T7)  T8..(T8)  T9..(T9)  T10.(T10)  Tp7.(TP7)  Tp8.(TP8)  P7..(P7)  P5..(P5)  P3..(P3)  P1..(P1)  Pz..(PZ)  P2..(P2)  P4..(P4)  P6..(P6)  P8..(P8)  Po7.(PO7)  Po3.(PO3)  Poz.(POZ)  Po4.(PO4)  Po8.(PO8)  O1..(O1)  Oz..(OZ)  O2..(O2)  Iz..(IZ) \n",
      "--------------------\n",
      "Excluded []\n",
      "====================\n"
     ]
    }
   ],
   "source": [
    "gen =  utils.get_lmoso_iterator(ds_name, ds)"
   ]
  },
  {
   "cell_type": "code",
   "execution_count": 11,
   "metadata": {},
   "outputs": [
    {
     "name": "stdout",
     "output_type": "stream",
     "text": [
      "Training:   >> Physionet MMIDB | DSID: None | 63 people | 2646 trials | 20 channels | 1536 samples/trial | 256Hz | 1 transforms\n",
      "Validation: >> Physionet MMIDB | DSID: None | 21 people | 880 trials | 20 channels | 1536 samples/trial | 256Hz | 1 transforms\n",
      "Test:       >> Physionet MMIDB | DSID: None | 21 people | 882 trials | 20 channels | 1536 samples/trial | 256Hz | 1 transforms\n"
     ]
    }
   ],
   "source": [
    "training, validation, test = next(gen)"
   ]
  },
  {
   "cell_type": "code",
   "execution_count": 13,
   "metadata": {},
   "outputs": [
    {
     "name": "stdout",
     "output_type": "stream",
     "text": [
      "Creating BENDRClassification using: 20 channels x 1536 samples at 256Hz | 2 targets\n",
      "Receptive field: 143 samples | Downsampled by 96 | Overlap of 47 samples | 16 encoded samples/trial\n"
     ]
    }
   ],
   "source": [
    "#model = BENDRClassification.from_dataset(training, multi_gpu = True)\n",
    "model = BENDRClassification.from_dataset(training)\n",
    "model.load_pretrained_modules(experiment.encoder_weights, experiment.context_weights,\n",
    "                                              freeze_encoder=args.freeze_encoder)"
   ]
  },
  {
   "cell_type": "code",
   "execution_count": 14,
   "metadata": {},
   "outputs": [
    {
     "name": "stderr",
     "output_type": "stream",
     "text": [
      "Loading Batches: 100%|██████████| 42/42 [00:04<00:00,  9.77it/s]\n"
     ]
    }
   ],
   "source": [
    "x, y = training.to_numpy()"
   ]
  },
  {
   "cell_type": "code",
   "execution_count": 34,
   "metadata": {},
   "outputs": [],
   "source": [
    "experiment.encoder_weights = 'contextualizer_BENDR.pt'\n",
    "experiment.context_weights = 'encoder_BENDR.pt'"
   ]
  },
  {
   "cell_type": "code",
   "execution_count": 35,
   "metadata": {},
   "outputs": [
    {
     "name": "stdout",
     "output_type": "stream",
     "text": [
      "Receptive field: 143 samples | Downsampled by 96 | Overlap of 47 samples | 16 encoded samples/trial\n"
     ]
    }
   ],
   "source": [
    "model = BENDRClassification(targets=2, samples=1536, channels=20)\n",
    "model.load_pretrained_modules(experiment.encoder_weights, experiment.context_weights, freeze_encoder=args.freeze_encoder)\n",
    "process = StandardClassification(model, metrics=added_metrics, cuda=\"cuda\")\n",
    "\n",
    "process.train(False)"
   ]
  },
  {
   "cell_type": "code",
   "execution_count": 37,
   "metadata": {},
   "outputs": [],
   "source": [
    "device = torch.device('cuda')"
   ]
  },
  {
   "cell_type": "code",
   "execution_count": 38,
   "metadata": {},
   "outputs": [],
   "source": [
    "torch.cuda.empty_cache()"
   ]
  },
  {
   "cell_type": "code",
   "execution_count": 39,
   "metadata": {},
   "outputs": [],
   "source": [
    "import numpy as np"
   ]
  },
  {
   "cell_type": "code",
   "execution_count": 41,
   "metadata": {},
   "outputs": [
    {
     "name": "stderr",
     "output_type": "stream",
     "text": [
      "100%|██████████| 2646/2646 [00:29<00:00, 89.76it/s]\n"
     ]
    }
   ],
   "source": [
    "preds = np.empty(len(y), dtype=int)\n",
    "for i in tqdm(range(len(preds))):\n",
    "    inputs = torch.Tensor(x[None, i]).to(device)\n",
    "    preds[i] = torch.nn.Softmax(dim=1)(process.forward(inputs, None)).argmax(1).item()\n",
    "    del inputs"
   ]
  },
  {
   "cell_type": "code",
   "execution_count": 47,
   "metadata": {},
   "outputs": [],
   "source": [
    "inputs = torch.Tensor(x[None, 0]).to(device)"
   ]
  },
  {
   "cell_type": "code",
   "execution_count": 61,
   "metadata": {},
   "outputs": [
    {
     "data": {
      "text/plain": [
       "tensor([[0.2836, 0.2253]], device='cuda:0', grad_fn=<AddmmBackward0>)"
      ]
     },
     "execution_count": 61,
     "metadata": {},
     "output_type": "execute_result"
    }
   ],
   "source": [
    "process.forward(inputs, None)"
   ]
  },
  {
   "cell_type": "code",
   "execution_count": 42,
   "metadata": {},
   "outputs": [
    {
     "data": {
      "image/png": "[encoded data removed]",
      "text/plain": [
       "<Figure size 640x480 with 1 Axes>"
      ]
     },
     "metadata": {},
     "output_type": "display_data"
    }
   ],
   "source": [
    "plt.hist(preds)\n",
    "plt.show()"
   ]
  },
  {
   "cell_type": "code",
   "execution_count": 46,
   "metadata": {},
   "outputs": [
    {
     "data": {
      "text/plain": [
       "(2646,)"
      ]
     },
     "execution_count": 46,
     "metadata": {},
     "output_type": "execute_result"
    }
   ],
   "source": [
    "y.shape"
   ]
  },
  {
   "cell_type": "code",
   "execution_count": 44,
   "metadata": {},
   "outputs": [
    {
     "data": {
      "text/plain": [
       "array([0, 1, 0, ..., 1, 0, 1])"
      ]
     },
     "execution_count": 44,
     "metadata": {},
     "output_type": "execute_result"
    }
   ],
   "source": [
    "training.get_targets()"
   ]
  }
 ],
 "metadata": {
  "kernelspec": {
   "display_name": "BENDR",
   "language": "python",
   "name": "python3"
  },
  "language_info": {
   "codemirror_mode": {
    "name": "ipython",
    "version": 3
   },
   "file_extension": ".py",
   "mimetype": "text/x-python",
   "name": "python",
   "nbconvert_exporter": "python",
   "pygments_lexer": "ipython3",
   "version": "3.10.8"
  },
  "orig_nbformat": 4,
  "vscode": {
   "interpreter": {
    "hash": "be8fffcb4a1dc2ef8594afdf8f56c6a37005b30d80172b0934bd8081b418c855"
   }
  }
 },
 "nbformat": 4,
 "nbformat_minor": 2
}
