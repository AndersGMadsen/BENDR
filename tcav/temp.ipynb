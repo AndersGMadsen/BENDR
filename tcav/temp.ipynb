{
 "cells": [
  {
   "cell_type": "code",
   "execution_count": null,
   "metadata": {},
   "outputs": [
    {
     "ename": "",
     "evalue": "",
     "output_type": "error",
     "traceback": [
      "\u001b[1;31mRunning cells with 'ENV' requires the ipykernel package.\n",
      "\u001b[1;31mRun the following command to install 'ipykernel' into the Python environment. \n",
      "\u001b[1;31mCommand: '/zhome/33/6/147533/BENDR/ENV/bin/python -m pip install ipykernel -U --force-reinstall'"
     ]
    }
   ],
   "source": [
    "# Randomly copy files 30 from the folders in data/concepts_tuh to data/random1_tuh\n",
    "\n",
    "import os\n",
    "from tqdm import tqdm\n",
    "if not os.getcwd().endswith('BENDR'): os.chdir(os.path.dirname(os.getcwd()))\n",
    "import random\n",
    "import shutil\n",
    "\n",
    "source_dir = 'data/class_data' #'/scratch/s194260/concepts_tuh_new'\n",
    "\n",
    "\n",
    "concepts = [concept for concept in os.listdir(source_dir) if 'random' not in concept \n",
    "            and 'Left' not in concept and 'Right' not in concept\n",
    "            and len(os.listdir(os.path.join(source_dir, concept))) > 2]"
   ]
  },
  {
   "cell_type": "code",
   "execution_count": 4,
   "metadata": {},
   "outputs": [
    {
     "name": "stderr",
     "output_type": "stream",
     "text": [
      "31it [00:02, 11.62it/s]                        \n",
      "31it [00:02, 14.22it/s]                        \n",
      "31it [00:02, 12.38it/s]                        \n",
      "31it [00:02, 13.04it/s]                        \n",
      "31it [00:02, 13.96it/s]                        \n",
      "31it [00:02, 14.91it/s]                        \n",
      "31it [00:01, 15.83it/s]                        \n",
      "31it [00:02, 12.92it/s]                        \n",
      "31it [00:02, 14.22it/s]                        \n",
      "31it [00:02, 12.82it/s]                        \n",
      "31it [00:02, 12.56it/s]                        \n",
      "31it [00:02, 13.48it/s]                        \n",
      "31it [00:02, 14.20it/s]                        \n",
      "31it [00:02, 14.37it/s]                        \n",
      "31it [00:02, 12.95it/s]                        \n",
      "31it [00:02, 13.82it/s]                        \n",
      "31it [00:02, 13.09it/s]                        \n",
      "31it [00:02, 13.61it/s]                        \n",
      "31it [00:02, 12.67it/s]                        \n",
      "31it [00:02, 12.22it/s]                        \n",
      "31it [00:02, 13.17it/s]                        \n",
      "31it [00:02, 12.76it/s]                        \n",
      "31it [00:02, 13.33it/s]                        \n",
      "31it [00:02, 13.49it/s]                        \n",
      "31it [00:02, 13.94it/s]                        \n",
      "31it [00:02, 15.49it/s]                        \n",
      " 53%|█████▎    | 16/30 [00:01<00:00, 14.46it/s]\n"
     ]
    },
    {
     "ename": "KeyboardInterrupt",
     "evalue": "",
     "output_type": "error",
     "traceback": [
      "\u001b[0;31m---------------------------------------------------------------------------\u001b[0m",
      "\u001b[0;31mKeyboardInterrupt\u001b[0m                         Traceback (most recent call last)",
      "Cell \u001b[0;32mIn[4], line 17\u001b[0m\n\u001b[1;32m     15\u001b[0m \u001b[39mif\u001b[39;00m \u001b[39mlen\u001b[39m(files) \u001b[39m>\u001b[39m \u001b[39m1\u001b[39m:\n\u001b[1;32m     16\u001b[0m     random_file \u001b[39m=\u001b[39m random\u001b[39m.\u001b[39msample(files, \u001b[39m1\u001b[39m)[\u001b[39m0\u001b[39m]\n\u001b[0;32m---> 17\u001b[0m     shutil\u001b[39m.\u001b[39;49mcopy(os\u001b[39m.\u001b[39;49mpath\u001b[39m.\u001b[39;49mjoin(source_dir, concept, random_file), os\u001b[39m.\u001b[39;49mpath\u001b[39m.\u001b[39;49mjoin(target_dir, concept))\n\u001b[1;32m     18\u001b[0m     count \u001b[39m+\u001b[39m\u001b[39m=\u001b[39m \u001b[39m1\u001b[39m\n\u001b[1;32m     19\u001b[0m     pbar\u001b[39m.\u001b[39mupdate(\u001b[39m1\u001b[39m)\n",
      "File \u001b[0;32m~/anaconda3/envs/BENDR/lib/python3.10/shutil.py:417\u001b[0m, in \u001b[0;36mcopy\u001b[0;34m(src, dst, follow_symlinks)\u001b[0m\n\u001b[1;32m    415\u001b[0m \u001b[39mif\u001b[39;00m os\u001b[39m.\u001b[39mpath\u001b[39m.\u001b[39misdir(dst):\n\u001b[1;32m    416\u001b[0m     dst \u001b[39m=\u001b[39m os\u001b[39m.\u001b[39mpath\u001b[39m.\u001b[39mjoin(dst, os\u001b[39m.\u001b[39mpath\u001b[39m.\u001b[39mbasename(src))\n\u001b[0;32m--> 417\u001b[0m copyfile(src, dst, follow_symlinks\u001b[39m=\u001b[39;49mfollow_symlinks)\n\u001b[1;32m    418\u001b[0m copymode(src, dst, follow_symlinks\u001b[39m=\u001b[39mfollow_symlinks)\n\u001b[1;32m    419\u001b[0m \u001b[39mreturn\u001b[39;00m dst\n",
      "File \u001b[0;32m~/anaconda3/envs/BENDR/lib/python3.10/shutil.py:258\u001b[0m, in \u001b[0;36mcopyfile\u001b[0;34m(src, dst, follow_symlinks)\u001b[0m\n\u001b[1;32m    255\u001b[0m \u001b[39mtry\u001b[39;00m:\n\u001b[1;32m    256\u001b[0m     \u001b[39mwith\u001b[39;00m \u001b[39mopen\u001b[39m(dst, \u001b[39m'\u001b[39m\u001b[39mwb\u001b[39m\u001b[39m'\u001b[39m) \u001b[39mas\u001b[39;00m fdst:\n\u001b[1;32m    257\u001b[0m         \u001b[39m# macOS\u001b[39;00m\n\u001b[0;32m--> 258\u001b[0m         \u001b[39mif\u001b[39;00m _HAS_FCOPYFILE:\n\u001b[1;32m    259\u001b[0m             \u001b[39mtry\u001b[39;00m:\n\u001b[1;32m    260\u001b[0m                 _fastcopy_fcopyfile(fsrc, fdst, posix\u001b[39m.\u001b[39m_COPYFILE_DATA)\n",
      "\u001b[0;31mKeyboardInterrupt\u001b[0m: "
     ]
    }
   ],
   "source": [
    "import os\n",
    "from tqdm import tqdm\n",
    "if not os.getcwd().endswith('BENDR'): os.chdir(os.path.dirname(os.getcwd()))\n",
    "import random\n",
    "import shutil\n",
    "\n",
    "source_dir = \"/work1/s194260/TUH_clean_all_divide_Falsesigma_Falseabs_100.0_210702_010523\"\n",
    "\n",
    "concepts = [concept for concept in os.listdir(source_dir) if 'random' not in concept \n",
    "            and 'Left' not in concept and 'Right' not in concept\n",
    "            and len(os.listdir(os.path.join(source_dir, concept))) > 2]\n",
    "\n",
    "for i in range(50):\n",
    "\n",
    "    target_dir = f'data/class_data/random500_{i}'\n",
    "\n",
    "    count = 0\n",
    "\n",
    "    if not os.path.exists(target_dir):\n",
    "        os.mkdir(target_dir)\n",
    "\n",
    "        with tqdm(total=30) as pbar:\n",
    "            while count <= 30:\n",
    "                concept = random.choice(concepts)\n",
    "                files = [file for file in os.listdir(os.path.join(source_dir, concept))] # if 'Alpha' in file]\n",
    "\n",
    "                if len(files) > 1:\n",
    "                    random_file = random.sample(files, 1)[0]\n",
    "                    shutil.copy(os.path.join(source_dir, concept, random_file), os.path.join(target_dir, concept))\n",
    "                    count += 1\n",
    "                    pbar.update(1)\n",
    "                else:\n",
    "                    continue"
   ]
  },
  {
   "cell_type": "code",
   "execution_count": 8,
   "metadata": {},
   "outputs": [
    {
     "data": {
      "text/plain": [
       "'data/class_data/Both feet, imagined/S001R06_T2_Both feet, imagined.pkl'"
      ]
     },
     "execution_count": 8,
     "metadata": {},
     "output_type": "execute_result"
    }
   ],
   "source": [
    "file"
   ]
  },
  {
   "cell_type": "code",
   "execution_count": 4,
   "metadata": {},
   "outputs": [
    {
     "name": "stderr",
     "output_type": "stream",
     "text": [
      "100%|██████████| 35/35 [00:48<00:00,  1.39s/it]\n"
     ]
    }
   ],
   "source": [
    "# Go thorugh each file in subfolders in data/class_data using glob\n",
    "import glob\n",
    "import pickle\n",
    "import numpy as np\n",
    "import torch\n",
    "from tqdm import tqdm\n",
    "import os\n",
    "if not os.getcwd().endswith('BENDR'): os.chdir(os.path.dirname(os.getcwd()))\n",
    "\n",
    "\n",
    "data_dir = 'data/class_data'\n",
    "for folder in tqdm(os.listdir(data_dir)):\n",
    "    for file in glob.glob(os.path.join(data_dir, folder, '*.pkl')):\n",
    "        with open(file, 'rb') as f:\n",
    "            data = pickle.load(f)\n",
    "            if np.isnan(data).any():\n",
    "                print(file)"
   ]
  },
  {
   "cell_type": "code",
   "execution_count": 5,
   "metadata": {},
   "outputs": [
    {
     "ename": "NameError",
     "evalue": "name 'model' is not defined",
     "output_type": "error",
     "traceback": [
      "\u001b[0;31m---------------------------------------------------------------------------\u001b[0m",
      "\u001b[0;31mNameError\u001b[0m                                 Traceback (most recent call last)",
      "Cell \u001b[0;32mIn[5], line 1\u001b[0m\n\u001b[0;32m----> 1\u001b[0m model\n",
      "\u001b[0;31mNameError\u001b[0m: name 'model' is not defined"
     ]
    }
   ],
   "source": [
    "model"
   ]
  },
  {
   "cell_type": "code",
   "execution_count": null,
   "metadata": {},
   "outputs": [],
   "source": []
  },
  {
   "cell_type": "code",
   "execution_count": 3,
   "metadata": {},
   "outputs": [
    {
     "data": {
      "text/plain": [
       "'Theta_Auditory Association Cortex-rh'"
      ]
     },
     "execution_count": 3,
     "metadata": {},
     "output_type": "execute_result"
    }
   ],
   "source": []
  },
  {
   "cell_type": "code",
   "execution_count": 11,
   "metadata": {},
   "outputs": [
    {
     "ename": "TypeError",
     "evalue": "join() argument must be str, bytes, or os.PathLike object, not 'list'",
     "output_type": "error",
     "traceback": [
      "\u001b[0;31m---------------------------------------------------------------------------\u001b[0m",
      "\u001b[0;31mTypeError\u001b[0m                                 Traceback (most recent call last)",
      "Cell \u001b[0;32mIn[11], line 1\u001b[0m\n\u001b[0;32m----> 1\u001b[0m os\u001b[39m.\u001b[39;49mpath\u001b[39m.\u001b[39;49mjoin(source_dir, concept, random_file)\n",
      "File \u001b[0;32m~/anaconda3/envs/BENDR/lib/python3.10/posixpath.py:90\u001b[0m, in \u001b[0;36mjoin\u001b[0;34m(a, *p)\u001b[0m\n\u001b[1;32m     88\u001b[0m             path \u001b[39m+\u001b[39m\u001b[39m=\u001b[39m sep \u001b[39m+\u001b[39m b\n\u001b[1;32m     89\u001b[0m \u001b[39mexcept\u001b[39;00m (\u001b[39mTypeError\u001b[39;00m, \u001b[39mAttributeError\u001b[39;00m, \u001b[39mBytesWarning\u001b[39;00m):\n\u001b[0;32m---> 90\u001b[0m     genericpath\u001b[39m.\u001b[39;49m_check_arg_types(\u001b[39m'\u001b[39;49m\u001b[39mjoin\u001b[39;49m\u001b[39m'\u001b[39;49m, a, \u001b[39m*\u001b[39;49mp)\n\u001b[1;32m     91\u001b[0m     \u001b[39mraise\u001b[39;00m\n\u001b[1;32m     92\u001b[0m \u001b[39mreturn\u001b[39;00m path\n",
      "File \u001b[0;32m~/anaconda3/envs/BENDR/lib/python3.10/genericpath.py:152\u001b[0m, in \u001b[0;36m_check_arg_types\u001b[0;34m(funcname, *args)\u001b[0m\n\u001b[1;32m    150\u001b[0m         hasbytes \u001b[39m=\u001b[39m \u001b[39mTrue\u001b[39;00m\n\u001b[1;32m    151\u001b[0m     \u001b[39melse\u001b[39;00m:\n\u001b[0;32m--> 152\u001b[0m         \u001b[39mraise\u001b[39;00m \u001b[39mTypeError\u001b[39;00m(\u001b[39mf\u001b[39m\u001b[39m'\u001b[39m\u001b[39m{\u001b[39;00mfuncname\u001b[39m}\u001b[39;00m\u001b[39m() argument must be str, bytes, or \u001b[39m\u001b[39m'\u001b[39m\n\u001b[1;32m    153\u001b[0m                         \u001b[39mf\u001b[39m\u001b[39m'\u001b[39m\u001b[39mos.PathLike object, not \u001b[39m\u001b[39m{\u001b[39;00ms\u001b[39m.\u001b[39m\u001b[39m__class__\u001b[39m\u001b[39m.\u001b[39m\u001b[39m__name__\u001b[39m\u001b[39m!r}\u001b[39;00m\u001b[39m'\u001b[39m) \u001b[39mfrom\u001b[39;00m \u001b[39mNone\u001b[39m\n\u001b[1;32m    154\u001b[0m \u001b[39mif\u001b[39;00m hasstr \u001b[39mand\u001b[39;00m hasbytes:\n\u001b[1;32m    155\u001b[0m     \u001b[39mraise\u001b[39;00m \u001b[39mTypeError\u001b[39;00m(\u001b[39m\"\u001b[39m\u001b[39mCan\u001b[39m\u001b[39m'\u001b[39m\u001b[39mt mix strings and bytes in path components\u001b[39m\u001b[39m\"\u001b[39m) \u001b[39mfrom\u001b[39;00m \u001b[39mNone\u001b[39m\n",
      "\u001b[0;31mTypeError\u001b[0m: join() argument must be str, bytes, or os.PathLike object, not 'list'"
     ]
    }
   ],
   "source": [
    "os.path.join(source_dir, concept, random_file)"
   ]
  },
  {
   "cell_type": "code",
   "execution_count": 4,
   "metadata": {},
   "outputs": [
    {
     "name": "stdout",
     "output_type": "stream",
     "text": [
      "Alpha_Premotor Cortex-rh                                                    39\n",
      "Alpha_Dorsal Stream Visual Cortex-rh                                        53\n",
      "Alpha_Early Visual Cortex-rh                                                44\n",
      "Alpha_Dorsal Stream Visual Cortex-lh                                        34\n",
      "Alpha_Premotor Cortex-lh                                                    28\n",
      "Alpha_Early Visual Cortex-lh                                                37\n",
      "Alpha_MT+ Complex and Neighboring Visual Areas-rh                           131\n",
      "Alpha_DorsoLateral Prefrontal Cortex-lh                                     254\n",
      "Alpha_Orbital and Polar Frontal Cortex-rh                                   528\n",
      "Alpha_Inferior Frontal Cortex-rh                                            546\n",
      "Alpha_Superior Parietal Cortex-lh                                           95\n",
      "Alpha_Auditory Association Cortex-lh                                        84\n",
      "Alpha_Inferior Parietal Cortex-rh                                           42\n",
      "Alpha_Orbital and Polar Frontal Cortex-lh                                   612\n",
      "Alpha_DorsoLateral Prefrontal Cortex-rh                                     280\n",
      "Alpha_MT+ Complex and Neighboring Visual Areas-lh                           86\n",
      "Alpha_Auditory Association Cortex-rh                                        96\n",
      "Alpha_Superior Parietal Cortex-rh                                           107\n",
      "Alpha_Inferior Frontal Cortex-lh                                            389\n"
     ]
    }
   ],
   "source": [
    "import os\n",
    "# Print number of files in each directory in /scratch/s194260/concepts_mmidb_tasks\n",
    "for concept in os.listdir('/scratch/s194260/concepts_desync'):\n",
    "    n_files = len(os.listdir(os.path.join('/scratch/s194260/concepts_desync', concept)))\n",
    "    # Print those with motor in concept name\n",
    "    if n_files >= 25:\n",
    "        print(concept.ljust(75), n_files)"
   ]
  },
  {
   "cell_type": "code",
   "execution_count": 13,
   "metadata": {},
   "outputs": [
    {
     "name": "stderr",
     "output_type": "stream",
     "text": [
      "100%|██████████| 286/286 [00:01<00:00, 207.88it/s]\n"
     ]
    }
   ],
   "source": [
    "import os, random, shutil\n",
    "from tqdm import tqdm\n",
    "dir_path = \"/scratch/s194260/concepts_mmidb_tasks\"\n",
    "# Copy all files in folders ending with lh into a the folder lh and all files ending with rh into the folder rh\n",
    "for concept in tqdm(os.listdir(dir_path)):\n",
    "    if concept.endswith('lh') and concept != 'lh':\n",
    "        for file in os.listdir(os.path.join(dir_path, concept)):\n",
    "            shutil.copy(os.path.join(dir_path, concept, file), os.path.join(dir_path, 'lh', file))\n",
    "    elif concept.endswith('rh') and concept != 'rh':\n",
    "        for file in os.listdir(os.path.join(dir_path, concept)):\n",
    "            shutil.copy(os.path.join(dir_path, concept, file), os.path.join(dir_path, 'rh', file))"
   ]
  },
  {
   "cell_type": "code",
   "execution_count": 1,
   "metadata": {},
   "outputs": [
    {
     "name": "stderr",
     "output_type": "stream",
     "text": [
      "100%|██████████| 200/200 [01:10<00:00,  2.84it/s]\n"
     ]
    }
   ],
   "source": [
    "\n",
    "dir_path = \"/nobackup/tsal-tmp/tuh_eeg\"\n",
    "\n",
    "count = 0\n",
    "\n",
    "with tqdm(total=200) as pbar:\n",
    "    # Choose 200 random .edf files from dir_path and its subfolders and copy them to /scratch/s194260/tuh_eeg\n",
    "    for root, dirs, files in os.walk(dir_path):\n",
    "        for file in files:\n",
    "            if file.endswith(\".edf\"):\n",
    "                if random.random() < 0.01:\n",
    "                    shutil.copy(os.path.join(root, file), '/scratch/s194260/tuh_eeg')\n",
    "                    count += 1\n",
    "                    pbar.update(1)\n",
    "                    if count >= 200:\n",
    "                        break\n",
    "                    \n",
    "        if count >= 200:\n",
    "            break"
   ]
  },
  {
   "cell_type": "code",
   "execution_count": 33,
   "metadata": {},
   "outputs": [],
   "source": [
    "def pick_and_rename_channels(raw):\n",
    "    if 'P7' in raw.ch_names:\n",
    "        raw.rename_channels({'P7': 'T5'})\n",
    "    if 'P8' in raw.ch_names:\n",
    "        raw.rename_channels({'P8': 'T6'})\n",
    "    if 'T3' in raw.ch_names:\n",
    "        raw.rename_channels({'T3': 'T7'})\n",
    "    if 'T4' in raw.ch_names:\n",
    "        raw.rename_channels({'T4': 'T8'})\n",
    "\n",
    "    EEG_20_div = [\n",
    "                'FP1', 'FP2',\n",
    "        'F7', 'F3', 'FZ', 'F4', 'F8',\n",
    "        'T7', 'C3', 'CZ', 'C4', 'T8',\n",
    "        'T5', 'P3', 'PZ', 'P4', 'T6',\n",
    "                 'O1', 'O2'\n",
    "    ]\n",
    "    \n",
    "    raw.pick_channels(ch_names=EEG_20_div)\n",
    "    raw.reorder_channels(EEG_20_div)\n",
    "\n",
    "    return raw"
   ]
  },
  {
   "cell_type": "code",
   "execution_count": 34,
   "metadata": {},
   "outputs": [],
   "source": [
    "def rename(name):\n",
    "    name = name.rstrip('.').upper()\n",
    "    name = name.replace(\"EEG \", \"\")\n",
    "    name = name.replace(\"-REF\", \"\")\n",
    "    return name"
   ]
  },
  {
   "cell_type": "code",
   "execution_count": null,
   "metadata": {},
   "outputs": [],
   "source": [
    "import os, random, shutil\n",
    "from tqdm import tqdm\n",
    "import mne\n",
    "import os\n",
    "import numpy as np\n",
    "from tqdm import tqdm\n",
    "\n",
    "dir_path = \"/nobackup/tsal-tmp/tuh_eeg\"\n",
    "\n",
    "count = 0\n",
    "\n",
    "with tqdm() as pbar:\n",
    "    # Choose 200 random .edf files from dir_path and its subfolders and copy them to /scratch/s194260/tuh_eeg\n",
    "    for root, dirs, files in os.walk(dir_path):\n",
    "        for file in files:\n",
    "            if file.endswith(\".edf\"):\n",
    "                if random.random() < 0.01:\n",
    "                    try:\n",
    "                        raw = mne.io.read_raw_edf(os.path.join(root, file), verbose=False, preload=True)\n",
    "                        mne.datasets.eegbci.standardize(raw)  # Set channel names\n",
    "                        new_names = dict((ch_name, rename(ch_name)) for ch_name in raw.ch_names)\n",
    "                        raw.rename_channels(new_names)   \n",
    "                        raw = raw.set_eeg_reference(ref_channels='average', projection=True, verbose = False)\n",
    "                        raw = raw.apply_proj(verbose=False)\n",
    "\n",
    "                        montage = mne.channels.make_standard_montage('standard_1020')\n",
    "                        raw = raw.set_montage(montage, on_missing='ignore'); # Set montage\n",
    "                        raw = pick_and_rename_channels(raw)\n",
    "                        \n",
    "                        # Save the raw data in /scratch/s194260/tuh_eeg_preprocessed as edf file\n",
    "                        raw.export(os.path.join('/scratch/s194260/tuh_eeg_preprocessed', file), verbose=False, overwrite=True)\n",
    "                        pbar.update(1)           \n",
    "                        \n",
    "                        \n",
    "                    except Exception as e:\n",
    "                        continue"
   ]
  },
  {
   "cell_type": "code",
   "execution_count": null,
   "metadata": {},
   "outputs": [],
   "source": [
    "with tqdm(total=200) as pbar:\n",
    "    for root, dirs, files in os.walk(dir_path):"
   ]
  },
  {
   "cell_type": "code",
   "execution_count": null,
   "metadata": {},
   "outputs": [],
   "source": []
  },
  {
   "cell_type": "code",
   "execution_count": 62,
   "metadata": {},
   "outputs": [
    {
     "name": "stderr",
     "output_type": "stream",
     "text": [
      "  1%|          | 2/200 [00:26<37:43, 11.43s/it]  "
     ]
    },
    {
     "name": "stdout",
     "output_type": "stream",
     "text": [
      "aaaaagxq_s001_t001.edf No channels match the selection.\n",
      "\n"
     ]
    },
    {
     "name": "stderr",
     "output_type": "stream",
     "text": [
      "  2%|▎         | 5/200 [00:34<14:25,  4.44s/it]"
     ]
    },
    {
     "name": "stdout",
     "output_type": "stream",
     "text": [
      "aaaaakyi_s002_t076.edf No channels match the selection.\n",
      "\n"
     ]
    },
    {
     "name": "stderr",
     "output_type": "stream",
     "text": [
      "  8%|▊         | 17/200 [01:19<07:43,  2.53s/it]"
     ]
    },
    {
     "name": "stdout",
     "output_type": "stream",
     "text": [
      "aaaaaans_s001_t000.edf No channels match the selection.\n",
      "\n"
     ]
    },
    {
     "name": "stderr",
     "output_type": "stream",
     "text": [
      " 11%|█         | 22/200 [01:30<06:03,  2.04s/it]"
     ]
    },
    {
     "name": "stdout",
     "output_type": "stream",
     "text": [
      "aaaaabpd_s003_t000.edf No channels match the selection.\n",
      "\n"
     ]
    },
    {
     "name": "stderr",
     "output_type": "stream",
     "text": [
      " 14%|█▎        | 27/200 [01:43<06:17,  2.18s/it]"
     ]
    },
    {
     "name": "stdout",
     "output_type": "stream",
     "text": [
      "aaaaaisq_s001_t000.edf No channels match the selection.\n",
      "\n"
     ]
    },
    {
     "name": "stderr",
     "output_type": "stream",
     "text": [
      " 14%|█▍        | 29/200 [01:49<06:54,  2.42s/it]"
     ]
    },
    {
     "name": "stdout",
     "output_type": "stream",
     "text": [
      "aaaaalvj_s001_t002.edf Setting start date time 1899-12-30 00:00:00+00:00 returned an error\n",
      "\n",
      "aaaaablb_s001_t001.edf No channels match the selection.\n",
      "\n"
     ]
    },
    {
     "name": "stderr",
     "output_type": "stream",
     "text": [
      " 16%|█▌        | 31/200 [01:55<07:26,  2.64s/it]"
     ]
    },
    {
     "name": "stdout",
     "output_type": "stream",
     "text": [
      "aaaaaesq_s001_t001.edf No channels match the selection.\n",
      "\n"
     ]
    },
    {
     "name": "stderr",
     "output_type": "stream",
     "text": [
      " 17%|█▋        | 34/200 [02:57<38:13, 13.82s/it]"
     ]
    },
    {
     "name": "stdout",
     "output_type": "stream",
     "text": [
      "aaaaagcn_s002_t006.edf No channels match the selection.\n",
      "\n",
      "aaaaagco_s001_t001.edf No channels match the selection.\n",
      "\n"
     ]
    },
    {
     "name": "stderr",
     "output_type": "stream",
     "text": [
      " 19%|█▉        | 38/200 [03:05<12:31,  4.64s/it]"
     ]
    },
    {
     "name": "stdout",
     "output_type": "stream",
     "text": [
      "aaaaafjw_s002_t001.edf No channels match the selection.\n",
      "\n"
     ]
    },
    {
     "name": "stderr",
     "output_type": "stream",
     "text": [
      " 21%|██        | 42/200 [03:11<05:22,  2.04s/it]"
     ]
    },
    {
     "name": "stdout",
     "output_type": "stream",
     "text": [
      "aaaaadki_s002_t004.edf No channels match the selection.\n",
      "\n"
     ]
    },
    {
     "name": "stderr",
     "output_type": "stream",
     "text": [
      " 30%|██▉       | 59/200 [04:14<03:41,  1.57s/it]"
     ]
    },
    {
     "name": "stdout",
     "output_type": "stream",
     "text": [
      "aaaaabnh_s001_t001.edf No channels match the selection.\n",
      "\n"
     ]
    },
    {
     "name": "stderr",
     "output_type": "stream",
     "text": [
      " 30%|███       | 61/200 [04:19<05:01,  2.17s/it]"
     ]
    },
    {
     "name": "stdout",
     "output_type": "stream",
     "text": [
      "aaaaakal_s003_t000.edf No channels match the selection.\n",
      "\n"
     ]
    },
    {
     "name": "stderr",
     "output_type": "stream",
     "text": [
      " 33%|███▎      | 66/200 [04:30<04:21,  1.95s/it]"
     ]
    },
    {
     "name": "stdout",
     "output_type": "stream",
     "text": [
      "aaaaaisf_s002_t001.edf No channels match the selection.\n",
      "\n"
     ]
    },
    {
     "name": "stderr",
     "output_type": "stream",
     "text": [
      " 37%|███▋      | 74/200 [05:00<11:12,  5.34s/it]"
     ]
    },
    {
     "name": "stdout",
     "output_type": "stream",
     "text": [
      "aaaaaifw_s001_t002.edf No channels match the selection.\n",
      "\n"
     ]
    },
    {
     "name": "stderr",
     "output_type": "stream",
     "text": [
      " 38%|███▊      | 75/200 [05:02<09:09,  4.39s/it]"
     ]
    },
    {
     "name": "stdout",
     "output_type": "stream",
     "text": [
      "aaaaaamu_s001_t001.edf No channels match the selection.\n",
      "\n"
     ]
    },
    {
     "name": "stderr",
     "output_type": "stream",
     "text": [
      " 41%|████      | 82/200 [05:17<04:44,  2.41s/it]"
     ]
    },
    {
     "name": "stdout",
     "output_type": "stream",
     "text": [
      "aaaaahfh_s001_t000.edf No channels match the selection.\n",
      "\n",
      "aaaaaapa_s002_t001.edf No channels match the selection.\n",
      "\n",
      "aaaaadtj_s002_t002.edf No channels match the selection.\n",
      "\n",
      "aaaaadvs_s001_t000.edf No channels match the selection.\n",
      "\n"
     ]
    },
    {
     "name": "stderr",
     "output_type": "stream",
     "text": [
      " 47%|████▋     | 94/200 [07:42<17:50, 10.10s/it]  "
     ]
    },
    {
     "name": "stdout",
     "output_type": "stream",
     "text": [
      "aaaaacpa_s001_t000.edf No channels match the selection.\n",
      "\n"
     ]
    },
    {
     "name": "stderr",
     "output_type": "stream",
     "text": [
      " 52%|█████▎    | 105/200 [08:04<02:43,  1.72s/it]"
     ]
    },
    {
     "name": "stdout",
     "output_type": "stream",
     "text": [
      "aaaaakwy_s003_t002.edf No channels match the selection.\n",
      "\n"
     ]
    },
    {
     "name": "stderr",
     "output_type": "stream",
     "text": [
      " 56%|█████▌    | 111/200 [08:20<03:51,  2.60s/it]"
     ]
    },
    {
     "name": "stdout",
     "output_type": "stream",
     "text": [
      "aaaaahvh_s002_t000.edf No channels match the selection.\n",
      "\n",
      "aaaaabiv_s002_t011.edf No channels match the selection.\n",
      "\n"
     ]
    },
    {
     "name": "stderr",
     "output_type": "stream",
     "text": [
      " 56%|█████▌    | 112/200 [08:24<04:26,  3.03s/it]"
     ]
    },
    {
     "name": "stdout",
     "output_type": "stream",
     "text": [
      "aaaaabnl_s001_t001.edf No channels match the selection.\n",
      "\n"
     ]
    },
    {
     "name": "stderr",
     "output_type": "stream",
     "text": [
      " 63%|██████▎   | 126/200 [09:05<02:56,  2.39s/it]"
     ]
    },
    {
     "name": "stdout",
     "output_type": "stream",
     "text": [
      "aaaaadsj_s001_t003.edf No channels match the selection.\n",
      "\n",
      "aaaaalss_s001_t007.edf No channels match the selection.\n",
      "\n"
     ]
    },
    {
     "name": "stderr",
     "output_type": "stream",
     "text": [
      " 64%|██████▎   | 127/200 [09:06<02:44,  2.26s/it]"
     ]
    },
    {
     "name": "stdout",
     "output_type": "stream",
     "text": [
      "aaaaabov_s001_t001.edf No channels match the selection.\n",
      "\n"
     ]
    },
    {
     "name": "stderr",
     "output_type": "stream",
     "text": [
      " 64%|██████▍   | 129/200 [09:10<02:15,  1.91s/it]"
     ]
    },
    {
     "name": "stdout",
     "output_type": "stream",
     "text": [
      "aaaaaixk_s001_t000.edf No channels match the selection.\n",
      "\n"
     ]
    },
    {
     "name": "stderr",
     "output_type": "stream",
     "text": [
      " 65%|██████▌   | 130/200 [09:11<02:14,  1.92s/it]"
     ]
    },
    {
     "name": "stdout",
     "output_type": "stream",
     "text": [
      "aaaaabcy_s001_t000.edf No channels match the selection.\n",
      "\n"
     ]
    },
    {
     "name": "stderr",
     "output_type": "stream",
     "text": [
      " 68%|██████▊   | 137/200 [09:29<02:40,  2.55s/it]"
     ]
    },
    {
     "name": "stdout",
     "output_type": "stream",
     "text": [
      "aaaaakzc_s001_t001.edf No channels match the selection.\n",
      "\n"
     ]
    },
    {
     "name": "stderr",
     "output_type": "stream",
     "text": [
      " 69%|██████▉   | 138/200 [09:31<02:17,  2.23s/it]"
     ]
    },
    {
     "name": "stdout",
     "output_type": "stream",
     "text": [
      "aaaaamjh_s006_t006.edf Setting start date time 1899-12-30 00:00:00+00:00 returned an error\n",
      "\n",
      "aaaaabcj_s001_t000.edf No channels match the selection.\n",
      "\n",
      "aaaaahfg_s002_t006.edf No channels match the selection.\n",
      "\n"
     ]
    },
    {
     "name": "stderr",
     "output_type": "stream",
     "text": [
      " 70%|███████   | 140/200 [09:38<02:57,  2.95s/it]"
     ]
    },
    {
     "name": "stdout",
     "output_type": "stream",
     "text": [
      "aaaaagxm_s001_t002.edf No channels match the selection.\n",
      "\n"
     ]
    },
    {
     "name": "stderr",
     "output_type": "stream",
     "text": [
      " 72%|███████▎  | 145/200 [09:46<01:47,  1.95s/it]"
     ]
    },
    {
     "name": "stdout",
     "output_type": "stream",
     "text": [
      "aaaaacpc_s001_t000.edf No channels match the selection.\n",
      "\n",
      "aaaaacos_s001_t001.edf No channels match the selection.\n",
      "\n"
     ]
    },
    {
     "name": "stderr",
     "output_type": "stream",
     "text": [
      " 75%|███████▌  | 150/200 [09:59<02:01,  2.43s/it]"
     ]
    },
    {
     "name": "stdout",
     "output_type": "stream",
     "text": [
      "aaaaaiql_s006_t001.edf No channels match the selection.\n",
      "\n"
     ]
    },
    {
     "name": "stderr",
     "output_type": "stream",
     "text": [
      " 78%|███████▊  | 156/200 [10:26<02:26,  3.32s/it]"
     ]
    },
    {
     "name": "stdout",
     "output_type": "stream",
     "text": [
      "aaaaadgv_s001_t001.edf No channels match the selection.\n",
      "\n",
      "aaaaagyl_s001_t002.edf No channels match the selection.\n",
      "\n"
     ]
    },
    {
     "name": "stderr",
     "output_type": "stream",
     "text": [
      " 80%|███████▉  | 159/200 [10:29<02:42,  3.96s/it]\n"
     ]
    }
   ],
   "source": [
    "# Go through each EDF file in /scratch/s194260/tuh_eeg and print its length in seconds\n",
    "import mne\n",
    "import os\n",
    "import numpy as np\n",
    "from tqdm import tqdm\n",
    "\n",
    "dir_path = \"/scratch/s194260/tuh_eeg\"\n",
    "\n",
    "with tqdm(total=200) as pbar:\n",
    "    for file in os.listdir(dir_path):\n",
    "        try:\n",
    "            raw = mne.io.read_raw_edf(os.path.join(dir_path, file), verbose=False, preload=True)\n",
    "            mne.datasets.eegbci.standardize(raw)  # Set channel names\n",
    "            new_names = dict((ch_name, rename(ch_name)) for ch_name in raw.ch_names)\n",
    "            raw.rename_channels(new_names)   \n",
    "            raw = raw.set_eeg_reference(ref_channels='average', projection=True, verbose = False)\n",
    "            raw = raw.apply_proj(verbose=False)\n",
    "\n",
    "            montage = mne.channels.make_standard_montage('standard_1020')\n",
    "            raw = raw.set_montage(montage, on_missing='ignore'); # Set montage\n",
    "            raw = pick_and_rename_channels(raw)\n",
    "            \n",
    "            # Save the raw data in /scratch/s194260/tuh_eeg_preprocessed as edf file\n",
    "            raw.export(os.path.join('/scratch/s194260/tuh_eeg_preprocessed', file), verbose=False, overwrite=True)\n",
    "            pbar.update(1)           \n",
    "            \n",
    "            \n",
    "        except Exception as e:\n",
    "            print(file, e)\n",
    "            print()"
   ]
  }
 ],
 "metadata": {
  "kernelspec": {
   "display_name": "Python 3 (ipykernel)",
   "language": "python",
   "name": "python3"
  },
  "language_info": {
   "codemirror_mode": {
    "name": "ipython",
    "version": 3
   },
   "file_extension": ".py",
   "mimetype": "text/x-python",
   "name": "python",
   "nbconvert_exporter": "python",
   "pygments_lexer": "ipython3",
   "version": "3.10.7"
  },
  "orig_nbformat": 4
 },
 "nbformat": 4,
 "nbformat_minor": 2
}
