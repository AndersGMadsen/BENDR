{
 "cells": [
  {
   "cell_type": "code",
   "execution_count": 1,
   "metadata": {},
   "outputs": [
    {
     "name": "stderr",
     "output_type": "stream",
     "text": [
      "2023-04-11 18:56:24.350552: I tensorflow/core/platform/cpu_feature_guard.cc:182] This TensorFlow binary is optimized to use available CPU instructions in performance-critical operations.\n",
      "To enable the following instructions: AVX2 FMA, in other operations, rebuild TensorFlow with the appropriate compiler flags.\n",
      "2023-04-11 18:56:25.898460: W tensorflow/compiler/tf2tensorrt/utils/py_utils.cc:38] TF-TRT Warning: Could not find TensorRT\n"
     ]
    }
   ],
   "source": [
    "%load_ext autoreload\n",
    "%autoreload 2\n",
    "\n",
    "import os\n",
    "if not os.getcwd().endswith('BENDR'): os.chdir(os.path.dirname(os.getcwd()))\n",
    "os.environ[\"CUDA_VISIBLE_DEVICES\"] = \"0\"\n",
    "\n",
    "import torch\n",
    "from tqdm import tqdm\n",
    "\n",
    "import BENDR.utils as utils\n",
    "from importlib import reload\n",
    "import BENDR.BENDR_utils as BENDR_utils\n",
    "reload(BENDR_utils)\n",
    "from BENDR.BENDR_utils import BENDR\n",
    "from matplotlib import pyplot as plt\n",
    "import activation_generator as act_gen\n",
    "import numpy as np\n",
    "import tcav as tcav\n",
    "import tensorflow as tf\n",
    "import utils_plot"
   ]
  },
  {
   "cell_type": "code",
   "execution_count": 2,
   "metadata": {},
   "outputs": [
    {
     "name": "stdout",
     "output_type": "stream",
     "text": [
      "Receptive field: 143 samples | Downsampled by 96 | Overlap of 47 samples | 16 encoded samples/trial\n"
     ]
    }
   ],
   "source": [
    "encoder_weights = 'encoder_BENDR.pt'\n",
    "context_weights = 'contextualizer_BENDR.pt'\n",
    "classifier_weights = 'classifier_BENDR.pt'\n",
    "\n",
    "model = BENDR(targets=2, samples=1536, channels=20, device='cuda')\n",
    "model.load_all(encoder_weights, context_weights, classifier_weights)\n",
    "model = model.train(False)\n",
    "model = model.to(torch.device('cpu'))"
   ]
  },
  {
   "cell_type": "code",
   "execution_count": 3,
   "metadata": {},
   "outputs": [],
   "source": [
    "import pickle\n",
    "filename = \"data/concepts/eyem/aaaaaeab_s003_t00011.pkl\"\n",
    "with open(filename, \"rb\") as f:\n",
    "    concept = pickle.load(f)"
   ]
  },
  {
   "cell_type": "code",
   "execution_count": 5,
   "metadata": {},
   "outputs": [
    {
     "data": {
      "text/plain": [
       "torch.Size([1, 20, 1024])"
      ]
     },
     "execution_count": 5,
     "metadata": {},
     "output_type": "execute_result"
    }
   ],
   "source": [
    "concept.shape"
   ]
  },
  {
   "cell_type": "code",
   "execution_count": 12,
   "metadata": {},
   "outputs": [],
   "source": [
    "source_dir = 'data/concepts'\n",
    "results_dir =  'data/tcav_results' \n",
    "activation_dir = 'data/activations'\n",
    "cav_dir = 'data/cavs'\n",
    "bottlenecks = ['classifier'] #['extended_classifier', 'summarizer', 'classifier']\n",
    "alphas = [0.1]\n",
    "\n",
    "target =  'target_left' #'target_left'\n",
    "\n",
    "# concepts are stored in folders with these names\n",
    "concepts = ['eyem', 'musc'] #['spsw', 'artf', 'bckg', 'gped', 'pled', 'eyem', 'musc']\n",
    "\n",
    "labels = ['target_left', 'target_right']"
   ]
  },
  {
   "cell_type": "code",
   "execution_count": 13,
   "metadata": {},
   "outputs": [],
   "source": [
    "from model import EEGWrapper, BENDR_cutted\n",
    "\n",
    "\n",
    "class BENDRWrapper(EEGWrapper) : \n",
    "    def __init__(self, model, labels, sample_length_target):\n",
    "        eeg_shape = [1, 20, sample_length_target]\n",
    "        super(BENDRWrapper, self).__init__(eeg_shape=eeg_shape, eeg_labels=labels)\n",
    "        self.model = model\n",
    "        self.model_name = 'BENDR'\n",
    "\n",
    "    def forward(self, x):\n",
    "        return self.model.forward()\n",
    "\n",
    "    def get_cutted_model(self, bottleneck):\n",
    "        return BENDR_cutted(self.model, bottleneck)\n",
    "    \n",
    "tcav_model = BENDRWrapper(model, labels, 1536)"
   ]
  },
  {
   "cell_type": "code",
   "execution_count": 6,
   "metadata": {},
   "outputs": [],
   "source": [
    "act_generator = act_gen.EEGActivationGenerator(\n",
    "   tcav_model, source_dir, activation_dir, max_examples=25\n",
    "   )"
   ]
  },
  {
   "cell_type": "code",
   "execution_count": 7,
   "metadata": {},
   "outputs": [],
   "source": [
    "tf.compat.v1.logging.set_verbosity(0)\n",
    "num_random_exp = 10\n",
    "\n",
    "my_tcav = tcav.TCAV(target,\n",
    "                   concepts,\n",
    "                   bottlenecks,\n",
    "                   act_generator,\n",
    "                   alphas,\n",
    "                   cav_dir=cav_dir,\n",
    "                   num_random_exp=num_random_exp)"
   ]
  },
  {
   "cell_type": "code",
   "execution_count": 8,
   "metadata": {},
   "outputs": [
    {
     "name": "stdout",
     "output_type": "stream",
     "text": [
      "Loading mytcav\n",
      "Running param 0 of 110\n",
      "Running param 1 of 110\n",
      "Running param 2 of 110\n",
      "Running param 3 of 110\n",
      "Running param 4 of 110\n",
      "Running param 5 of 110\n",
      "Running param 6 of 110\n",
      "Running param 7 of 110\n",
      "Running param 8 of 110\n",
      "Running param 9 of 110\n",
      "Running param 10 of 110\n",
      "Running param 11 of 110\n",
      "Running param 12 of 110\n",
      "Running param 13 of 110\n",
      "Running param 14 of 110\n",
      "Running param 15 of 110\n",
      "Running param 16 of 110\n",
      "Running param 17 of 110\n",
      "Running param 18 of 110\n",
      "Running param 19 of 110\n",
      "Running param 20 of 110\n",
      "Running param 21 of 110\n",
      "Running param 22 of 110\n",
      "Running param 23 of 110\n",
      "Running param 24 of 110\n",
      "Running param 25 of 110\n",
      "Running param 26 of 110\n",
      "Running param 27 of 110\n",
      "Running param 28 of 110\n",
      "Running param 29 of 110\n",
      "Running param 30 of 110\n",
      "Running param 31 of 110\n",
      "Running param 32 of 110\n",
      "Running param 33 of 110\n",
      "Running param 34 of 110\n",
      "Running param 35 of 110\n",
      "Running param 36 of 110\n",
      "Running param 37 of 110\n",
      "Running param 38 of 110\n",
      "Running param 39 of 110\n",
      "Running param 40 of 110\n",
      "Running param 41 of 110\n",
      "Running param 42 of 110\n",
      "Running param 43 of 110\n",
      "Running param 44 of 110\n",
      "Running param 45 of 110\n",
      "Running param 46 of 110\n",
      "Running param 47 of 110\n",
      "Running param 48 of 110\n",
      "Running param 49 of 110\n",
      "Running param 50 of 110\n",
      "Running param 51 of 110\n",
      "Running param 52 of 110\n",
      "Running param 53 of 110\n",
      "Running param 54 of 110\n",
      "Running param 55 of 110\n",
      "Running param 56 of 110\n",
      "Running param 57 of 110\n",
      "Running param 58 of 110\n",
      "Running param 59 of 110\n",
      "Running param 60 of 110\n",
      "Running param 61 of 110\n",
      "Running param 62 of 110\n",
      "Running param 63 of 110\n",
      "Running param 64 of 110\n",
      "Running param 65 of 110\n",
      "Running param 66 of 110\n",
      "Running param 67 of 110\n",
      "Running param 68 of 110\n",
      "Running param 69 of 110\n",
      "Running param 70 of 110\n",
      "Running param 71 of 110\n",
      "Running param 72 of 110\n",
      "Running param 73 of 110\n",
      "Running param 74 of 110\n",
      "Running param 75 of 110\n",
      "Running param 76 of 110\n",
      "Running param 77 of 110\n",
      "Running param 78 of 110\n",
      "Running param 79 of 110\n",
      "Running param 80 of 110\n",
      "Running param 81 of 110\n",
      "Running param 82 of 110\n",
      "Running param 83 of 110\n",
      "Running param 84 of 110\n",
      "Running param 85 of 110\n",
      "Running param 86 of 110\n",
      "Running param 87 of 110\n",
      "Running param 88 of 110\n",
      "Running param 89 of 110\n",
      "Running param 90 of 110\n",
      "Running param 91 of 110\n",
      "Running param 92 of 110\n",
      "Running param 93 of 110\n",
      "Running param 94 of 110\n",
      "Running param 95 of 110\n",
      "Running param 96 of 110\n",
      "Running param 97 of 110\n",
      "Running param 98 of 110\n",
      "Running param 99 of 110\n",
      "Running param 100 of 110\n",
      "Running param 101 of 110\n",
      "Running param 102 of 110\n",
      "Running param 103 of 110\n",
      "Running param 104 of 110\n",
      "Running param 105 of 110\n",
      "Running param 106 of 110\n",
      "Running param 107 of 110\n",
      "Running param 108 of 110\n",
      "Running param 109 of 110\n",
      "Done running 110 params. Took 753.6679713726044 seconds...\n"
     ]
    }
   ],
   "source": [
    "print('Loading mytcav')\n",
    "results = my_tcav.run()"
   ]
  },
  {
   "cell_type": "code",
   "execution_count": 11,
   "metadata": {},
   "outputs": [],
   "source": [
    "result_name = 'data/tcav_results/eyem_musc_10_random_exps'\n",
    "\n",
    "with open(result_name + '.pkl', \"wb\") as f : \n",
    "   pickle.dump(results, f, pickle.HIGHEST_PROTOCOL)"
   ]
  },
  {
   "cell_type": "code",
   "execution_count": 13,
   "metadata": {},
   "outputs": [
    {
     "name": "stdout",
     "output_type": "stream",
     "text": [
      ">>> is random concept: eyem\n",
      ">>> is random concept: eyem\n",
      ">>> is random concept: eyem\n",
      ">>> is random concept: eyem\n",
      ">>> is random concept: eyem\n",
      ">>> is random concept: eyem\n",
      ">>> is random concept: eyem\n",
      ">>> is random concept: eyem\n",
      ">>> is random concept: eyem\n",
      ">>> is random concept: eyem\n",
      ">>> is random concept: musc\n",
      ">>> is random concept: musc\n",
      ">>> is random concept: musc\n",
      ">>> is random concept: musc\n",
      ">>> is random concept: musc\n",
      ">>> is random concept: musc\n",
      ">>> is random concept: musc\n",
      ">>> is random concept: musc\n",
      ">>> is random concept: musc\n",
      ">>> is random concept: musc\n",
      ">>> is random concept: random500_0\n",
      ">>> is random concept: random500_0\n",
      ">>> is random concept: random500_0\n",
      ">>> is random concept: random500_0\n",
      ">>> is random concept: random500_0\n",
      ">>> is random concept: random500_0\n",
      ">>> is random concept: random500_0\n",
      ">>> is random concept: random500_0\n",
      ">>> is random concept: random500_0\n",
      ">>> is random concept: random500_1\n",
      ">>> is random concept: random500_1\n",
      ">>> is random concept: random500_1\n",
      ">>> is random concept: random500_1\n",
      ">>> is random concept: random500_1\n",
      ">>> is random concept: random500_1\n",
      ">>> is random concept: random500_1\n",
      ">>> is random concept: random500_1\n",
      ">>> is random concept: random500_1\n",
      ">>> is random concept: random500_2\n",
      ">>> is random concept: random500_2\n",
      ">>> is random concept: random500_2\n",
      ">>> is random concept: random500_2\n",
      ">>> is random concept: random500_2\n",
      ">>> is random concept: random500_2\n",
      ">>> is random concept: random500_2\n",
      ">>> is random concept: random500_2\n",
      ">>> is random concept: random500_2\n",
      ">>> is random concept: random500_3\n",
      ">>> is random concept: random500_3\n",
      ">>> is random concept: random500_3\n",
      ">>> is random concept: random500_3\n",
      ">>> is random concept: random500_3\n",
      ">>> is random concept: random500_3\n",
      ">>> is random concept: random500_3\n",
      ">>> is random concept: random500_3\n",
      ">>> is random concept: random500_3\n",
      ">>> is random concept: random500_4\n",
      ">>> is random concept: random500_4\n",
      ">>> is random concept: random500_4\n",
      ">>> is random concept: random500_4\n",
      ">>> is random concept: random500_4\n",
      ">>> is random concept: random500_4\n",
      ">>> is random concept: random500_4\n",
      ">>> is random concept: random500_4\n",
      ">>> is random concept: random500_4\n",
      ">>> is random concept: random500_5\n",
      ">>> is random concept: random500_5\n",
      ">>> is random concept: random500_5\n",
      ">>> is random concept: random500_5\n",
      ">>> is random concept: random500_5\n",
      ">>> is random concept: random500_5\n",
      ">>> is random concept: random500_5\n",
      ">>> is random concept: random500_5\n",
      ">>> is random concept: random500_5\n",
      ">>> is random concept: random500_6\n",
      ">>> is random concept: random500_6\n",
      ">>> is random concept: random500_6\n",
      ">>> is random concept: random500_6\n",
      ">>> is random concept: random500_6\n",
      ">>> is random concept: random500_6\n",
      ">>> is random concept: random500_6\n",
      ">>> is random concept: random500_6\n",
      ">>> is random concept: random500_6\n",
      ">>> is random concept: random500_7\n",
      ">>> is random concept: random500_7\n",
      ">>> is random concept: random500_7\n",
      ">>> is random concept: random500_7\n",
      ">>> is random concept: random500_7\n",
      ">>> is random concept: random500_7\n",
      ">>> is random concept: random500_7\n",
      ">>> is random concept: random500_7\n",
      ">>> is random concept: random500_7\n",
      ">>> is random concept: random500_8\n",
      ">>> is random concept: random500_8\n",
      ">>> is random concept: random500_8\n",
      ">>> is random concept: random500_8\n",
      ">>> is random concept: random500_8\n",
      ">>> is random concept: random500_8\n",
      ">>> is random concept: random500_8\n",
      ">>> is random concept: random500_8\n",
      ">>> is random concept: random500_8\n",
      ">>> is random concept: random500_9\n",
      ">>> is random concept: random500_9\n",
      ">>> is random concept: random500_9\n",
      ">>> is random concept: random500_9\n",
      ">>> is random concept: random500_9\n",
      ">>> is random concept: random500_9\n",
      ">>> is random concept: random500_9\n",
      ">>> is random concept: random500_9\n",
      ">>> is random concept: random500_9\n",
      ">>> is random concept: eyem\n",
      ">>> Number of TCAV concept observations <<<\n",
      " 10\n",
      ">>> Number of TCAV random observations <<<\n",
      " 90\n",
      ">>> is random concept: musc\n",
      ">>> is random concept: random500_0\n",
      ">>> is random concept: random500_1\n",
      ">>> is random concept: random500_2\n",
      ">>> is random concept: random500_3\n",
      ">>> is random concept: random500_4\n",
      ">>> is random concept: random500_5\n",
      ">>> is random concept: random500_6\n",
      ">>> is random concept: random500_7\n",
      ">>> is random concept: random500_8\n",
      ">>> is random concept: random500_9\n"
     ]
    },
    {
     "data": {
      "image/png": "[encoded data removed]",
      "text/plain": [
       "<Figure size 1500x400 with 4 Axes>"
      ]
     },
     "metadata": {},
     "output_type": "display_data"
    },
    {
     "data": {
      "text/plain": [
       "{'classifier': {'random_p-value': [0.4666666666666667, 0.49888765156985887],\n",
       "  'bn_vals': [0.01, 0.01],\n",
       "  'bn_stds': [0, 0],\n",
       "  'significant': [False, False],\n",
       "  'p-value': [0.4284498555737857, 0.4284498555737857],\n",
       "  'concept': ['eyem', 'musc']}}"
      ]
     },
     "execution_count": 13,
     "metadata": {},
     "output_type": "execute_result"
    },
    {
     "data": {
      "image/png": "[encoded data removed]",
      "text/plain": [
       "<Figure size 1000x600 with 1 Axes>"
      ]
     },
     "metadata": {},
     "output_type": "display_data"
    }
   ],
   "source": [
    "utils_plot.plot_results(results, num_random_exp=num_random_exp, plot_hist= True,  save_fig = False, nameOfDataFrame = result_name )"
   ]
  },
  {
   "cell_type": "code",
   "execution_count": null,
   "metadata": {},
   "outputs": [],
   "source": []
  },
  {
   "cell_type": "code",
   "execution_count": null,
   "metadata": {},
   "outputs": [],
   "source": []
  }
 ],
 "metadata": {
  "kernelspec": {
   "display_name": "BENDR",
   "language": "python",
   "name": "python3"
  },
  "language_info": {
   "codemirror_mode": {
    "name": "ipython",
    "version": 3
   },
   "file_extension": ".py",
   "mimetype": "text/x-python",
   "name": "python",
   "nbconvert_exporter": "python",
   "pygments_lexer": "ipython3",
   "version": "3.10.10"
  },
  "orig_nbformat": 4
 },
 "nbformat": 4,
 "nbformat_minor": 2
}
