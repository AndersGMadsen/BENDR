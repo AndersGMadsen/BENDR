{
 "cells": [
  {
   "cell_type": "code",
   "execution_count": 1,
   "metadata": {},
   "outputs": [],
   "source": [
    "%load_ext autoreload\n",
    "%autoreload 2\n",
    "\n",
    "import os\n",
    "if not os.getcwd().endswith('BENDR'): os.chdir(os.path.dirname(os.getcwd()))\n",
    "os.environ[\"CUDA_VISIBLE_DEVICES\"] = \"0\"\n",
    "\n",
    "import torch\n",
    "from tqdm import tqdm\n",
    "\n",
    "import BENDR.utils as utils\n",
    "from importlib import reload\n",
    "import BENDR.BENDR_utils as BENDR_utils\n",
    "reload(BENDR_utils)\n",
    "from BENDR.BENDR_utils import BENDR\n",
    "from matplotlib import pyplot as plt\n",
    "import numpy as np"
   ]
  },
  {
   "cell_type": "code",
   "execution_count": 3,
   "metadata": {},
   "outputs": [
    {
     "name": "stdout",
     "output_type": "stream",
     "text": [
      "Receptive field: 143 samples | Downsampled by 96 | Overlap of 47 samples | 16 encoded samples/trial\n"
     ]
    }
   ],
   "source": [
    "encoder_weights = 'encoder_BENDR.pt'\n",
    "context_weights = 'contextualizer_BENDR.pt'\n",
    "classifier_weights = 'classifier_BENDR.pt'\n",
    "\n",
    "model = BENDR(targets=2, samples=1536, channels=20, device='cuda')\n",
    "model.load_all(encoder_weights, context_weights, classifier_weights)\n",
    "model = model.train(False)"
   ]
  },
  {
   "cell_type": "code",
   "execution_count": 6,
   "metadata": {},
   "outputs": [],
   "source": [
    "import model as model"
   ]
  },
  {
   "cell_type": "code",
   "execution_count": null,
   "metadata": {},
   "outputs": [],
   "source": [
    "class BENDRWrapper(EEGWrapper) : \n",
    "    def __init__(self, labels, model, sample_length_target):\n",
    "        eeg_shape = [1, 20, sample_length_target]\n",
    "        super(BENDRWrapper, self).__init__(eeg_shape=eeg_shape, eeg_labels=labels)\n",
    "        model = LinearHeadBENDR(targets = 2, samples = sample_length_target, channels = 20)\n",
    "        \n",
    "        myModel.load(modelPath, include_classifier= True, freeze_features = False) \n",
    "\n",
    "        #myModel.eval()\n",
    "\n",
    "        self.model = myModel\n",
    "\n",
    "        self.model_name = 'LinearHead_BENDR'\n",
    "\n",
    "    def forward(self, x):\n",
    "        return self.model.forward() # self.model.features_forward(x)\n",
    "\n",
    "    def get_cutted_model(self, bottleneck):\n",
    "        return BENDR_cutted(self.model, bottleneck)"
   ]
  }
 ],
 "metadata": {
  "kernelspec": {
   "display_name": "BENDR",
   "language": "python",
   "name": "python3"
  },
  "language_info": {
   "codemirror_mode": {
    "name": "ipython",
    "version": 3
   },
   "file_extension": ".py",
   "mimetype": "text/x-python",
   "name": "python",
   "nbconvert_exporter": "python",
   "pygments_lexer": "ipython3",
   "version": "3.10.9"
  },
  "orig_nbformat": 4
 },
 "nbformat": 4,
 "nbformat_minor": 2
}
