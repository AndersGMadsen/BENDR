{
 "cells": [
  {
   "cell_type": "code",
   "execution_count": 7,
   "metadata": {},
   "outputs": [
    {
     "name": "stdout",
     "output_type": "stream",
     "text": [
      "The autoreload extension is already loaded. To reload it, use:\n",
      "  %reload_ext autoreload\n",
      "The history saving thread hit an unexpected error (OperationalError('unable to open database file')).History will not be written to the database.\n"
     ]
    }
   ],
   "source": [
    "%load_ext autoreload\n",
    "%autoreload 2\n",
    "\n",
    "import os\n",
    "if not os.getcwd().endswith('BENDR'): os.chdir(os.path.dirname(os.getcwd()))\n",
    "os.environ[\"CUDA_VISIBLE_DEVICES\"] = \"0\"\n",
    "\n",
    "import torch\n",
    "from tqdm import tqdm\n",
    "\n",
    "import BENDR.utils as utils\n",
    "from importlib import reload\n",
    "import BENDR.BENDR_utils as BENDR_utils\n",
    "reload(BENDR_utils)\n",
    "from BENDR.BENDR_utils import BENDR\n",
    "from matplotlib import pyplot as plt\n",
    "import numpy as np"
   ]
  },
  {
   "cell_type": "code",
   "execution_count": 8,
   "metadata": {},
   "outputs": [
    {
     "name": "stdout",
     "output_type": "stream",
     "text": [
      "Receptive field: 143 samples | Downsampled by 96 | Overlap of 47 samples | 16 encoded samples/trial\n"
     ]
    }
   ],
   "source": [
    "encoder_weights = 'encoder_BENDR.pt'\n",
    "context_weights = 'contextualizer_BENDR.pt'\n",
    "classifier_weights = 'classifier_BENDR.pt'\n",
    "\n",
    "model = BENDR(targets=2, samples=1536, channels=20, device='cuda')\n",
    "model.load_all(encoder_weights, context_weights, classifier_weights)\n",
    "model = model.train(False)"
   ]
  },
  {
   "cell_type": "code",
   "execution_count": 9,
   "metadata": {},
   "outputs": [
    {
     "name": "stderr",
     "output_type": "stream",
     "text": [
      "2023-03-29 12:44:06.513645: I tensorflow/core/platform/cpu_feature_guard.cc:182] This TensorFlow binary is optimized to use available CPU instructions in performance-critical operations.\n",
      "To enable the following instructions: AVX2 FMA, in other operations, rebuild TensorFlow with the appropriate compiler flags.\n",
      "2023-03-29 12:44:20.641588: W tensorflow/compiler/tf2tensorrt/utils/py_utils.cc:38] TF-TRT Warning: Could not find TensorRT\n"
     ]
    }
   ],
   "source": [
    "import activation_generator as act_gen"
   ]
  },
  {
   "cell_type": "code",
   "execution_count": null,
   "metadata": {},
   "outputs": [],
   "source": []
  },
  {
   "cell_type": "code",
   "execution_count": 10,
   "metadata": {},
   "outputs": [],
   "source": [
    "act_generator = act_gen.EEGActivationGenerator(\n",
    "   model, \"\", \"\", max_examples=25\n",
    "   )"
   ]
  },
  {
   "cell_type": "code",
   "execution_count": null,
   "metadata": {},
   "outputs": [],
   "source": []
  },
  {
   "cell_type": "code",
   "execution_count": null,
   "metadata": {},
   "outputs": [],
   "source": [
    "class BENDRWrapper(EEGWrapper) : \n",
    "    def __init__(self, labels, model, sample_length_target):\n",
    "        eeg_shape = [1, 20, sample_length_target]\n",
    "        super(BENDRWrapper, self).__init__(eeg_shape=eeg_shape, eeg_labels=labels)\n",
    "        model = LinearHeadBENDR(targets = 2, samples = sample_length_target, channels = 20)\n",
    "        \n",
    "        myModel.load(modelPath, include_classifier= True, freeze_features = False) \n",
    "\n",
    "        #myModel.eval()\n",
    "\n",
    "        self.model = myModel\n",
    "\n",
    "        self.model_name = 'LinearHead_BENDR'\n",
    "\n",
    "    def forward(self, x):\n",
    "        return self.model.forward() # self.model.features_forward(x)\n",
    "\n",
    "    def get_cutted_model(self, bottleneck):\n",
    "        return BENDR_cutted(self.model, bottleneck)"
   ]
  },
  {
   "cell_type": "code",
   "execution_count": null,
   "metadata": {},
   "outputs": [],
   "source": []
  }
 ],
 "metadata": {
  "kernelspec": {
   "display_name": "BENDR",
   "language": "python",
   "name": "python3"
  },
  "language_info": {
   "codemirror_mode": {
    "name": "ipython",
    "version": 3
   },
   "file_extension": ".py",
   "mimetype": "text/x-python",
   "name": "python",
   "nbconvert_exporter": "python",
   "pygments_lexer": "ipython3",
   "version": "3.10.9"
  },
  "orig_nbformat": 4
 },
 "nbformat": 4,
 "nbformat_minor": 2
}
