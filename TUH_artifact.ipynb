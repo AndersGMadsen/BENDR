{
 "cells": [
  {
   "cell_type": "code",
   "execution_count": 2,
   "metadata": {},
   "outputs": [
    {
     "name": "stderr",
     "output_type": "stream",
     "text": [
      "/home/s194260/.conda/envs/BENDR/lib/python3.10/site-packages/tqdm/auto.py:22: TqdmWarning: IProgress not found. Please update jupyter and ipywidgets. See https://ipywidgets.readthedocs.io/en/stable/user_install.html\n",
      "  from .autonotebook import tqdm as notebook_tqdm\n"
     ]
    }
   ],
   "source": [
    "import mne\n",
    "import pandas\n",
    "import dn3\n",
    "from dn3.configuratron import ExperimentConfig\n",
    "import os\n",
    "from tqdm import tqdm\n",
    "import numpy as np\n",
    "import torch"
   ]
  },
  {
   "cell_type": "code",
   "execution_count": 3,
   "metadata": {},
   "outputs": [],
   "source": [
    "mapping = {'EEG FP1-REF': 'FP1', 'EEG FP2-REF': 'FP2', 'EEG F3-REF': 'F3', 'EEG F4-REF': 'F4', 'EEG C3-REF': 'C3', 'EEG C4-REF': 'C4', 'EEG P3-REF': 'P3', 'EEG P4-REF': 'P4', 'EEG O1-REF': 'O1', 'EEG O2-REF': 'O2', 'EEG F7-REF': 'F7', 'EEG F8-REF': 'F8', 'EEG T3-REF': 'T3', 'EEG T4-REF': 'T4', 'EEG T5-REF': 'T5', 'EEG T6-REF': 'T6', 'EEG A1-REF': 'A1', 'EEG A2-REF': 'A2', 'EEG FZ-REF': 'FZ', 'EEG CZ-REF': 'CZ', 'EEG PZ-REF': 'PZ'}"
   ]
  },
  {
   "cell_type": "code",
   "execution_count": 4,
   "metadata": {},
   "outputs": [],
   "source": [
    "names = [name[:-4] for name in os.listdir('data/datasets/tuh_eeg_artifact/v3.0.0/edf/01_tcp_ar')]\n",
    "names = list(set(names))\n",
    "names = [name for name in names if not name.endswith(\"_seiz\")]"
   ]
  },
  {
   "cell_type": "code",
   "execution_count": 5,
   "metadata": {},
   "outputs": [
    {
     "name": "stderr",
     "output_type": "stream",
     "text": [
      "0it [00:00, ?it/s]"
     ]
    },
    {
     "name": "stdout",
     "output_type": "stream",
     "text": [
      "['eyem' 'elec' 'eyem' 'eyem' 'eyem' 'eyem' 'eyem' 'eyem' 'eyem' 'eyem'\n",
      " 'eyem' 'eyem' 'eyem' 'eyem' 'musc' 'eyem' 'eyem' 'eyem' 'eyem' 'eyem'\n",
      " 'eyem' 'eyem' 'eyem' 'musc' 'musc' 'eyem' 'eyem' 'eyem' 'eyem' 'elec'\n",
      " 'eyem' 'elec' 'musc' 'musc' 'elec' 'musc' 'elec' 'eyem' 'eyem' 'eyem'\n",
      " 'elec' 'eyem' 'elec' 'eyem' 'eyem' 'eyem_musc' 'musc' 'eyem_musc' 'eyem'\n",
      " 'eyem' 'elec' 'musc' 'elec' 'elec' 'elec' 'eyem' 'eyem' 'eyem' 'eyem'\n",
      " 'eyem' 'elec' 'elec' 'eyem']\n"
     ]
    },
    {
     "name": "stderr",
     "output_type": "stream",
     "text": [
      "0it [00:20, ?it/s]\n"
     ]
    }
   ],
   "source": [
    "for index, name in tqdm(enumerate(names)):\n",
    "    raw = mne.io.read_raw_edf('data/datasets/tuh_eeg_artifact/v3.0.0/edf/01_tcp_ar/{}.edf'.format(name), preload=True)\n",
    "    drop = [name for name in raw.ch_names if name not in mapping.values()]\n",
    "\n",
    "    mne.datasets.eegbci.standardize(raw)  # Set channel names\n",
    "    raw = raw.set_eeg_reference(ref_channels='average')\n",
    "    montage = mne.channels.make_standard_montage('standard_1020')\n",
    "    raw = raw.rename_channels(mapping)\n",
    "    raw = raw.drop_channels(drop, on_missing = 'ignore')\n",
    "    raw = raw.resample(256)\n",
    "    raw = raw.filter(0.1, 80)\n",
    "    raw = raw.anonymize()\n",
    "\n",
    "    assert len(raw.ch_names) == 21\n",
    "\n",
    "    csv = pandas.read_csv(\"data/datasets/tuh_eeg_artifact/v3.0.0/edf/01_tcp_ar/{}.csv\".format(name), skiprows=6)\n",
    "    csv = csv.drop(columns=[\"channel\", \"confidence\"])\n",
    "    csv = csv.drop_duplicates(subset=('start_time', 'stop_time', 'label'))\n",
    "    csv = csv.sort_values(['start_time', 'stop_time', 'label'])\n",
    "    csv = csv.reset_index(drop=True)\n",
    "\n",
    "    booleans = np.zeros(len(csv), dtype=bool)\n",
    "    booleans[0] = True\n",
    "    idx = 0\n",
    "\n",
    "    for i in range(1, len(csv)):\n",
    "        if booleans[idx]:\n",
    "            if csv.iloc[idx].stop_time < csv.iloc[i].start_time:\n",
    "                idx = i\n",
    "                booleans[i] = True\n",
    "\n",
    "    csv = csv[booleans].reset_index(drop=True)\n",
    "\n",
    "    onset = csv.start_time.values\n",
    "    duration = csv.stop_time.values - csv.start_time.values\n",
    "    description = csv.label.values\n",
    "\n",
    "    print(description)\n",
    "\n",
    "    annotations = mne.Annotations(onset, duration, description)\n",
    "    raw = raw.set_annotations(annotations)\n",
    "\n",
    "    dirname = '/home/s194260/BENDR/data/datasets/artifact/' + name.split('_')[1]\n",
    "    filename = '/home/s194260/BENDR/data/datasets/artifact/' + name.split('_')[1] + '/' + name + '.edf'\n",
    "\n",
    "    if not os.path.exists(dirname): os.makedirs(dirname)\n",
    "\n",
    "    mne.export.export_raw(filename, raw, overwrite=True)\n",
    "\n",
    "    raw = mne.io.read_raw_edf(filename)\n",
    "\n",
    "    if index == 0:\n",
    "        break"
   ]
  },
  {
   "cell_type": "code",
   "execution_count": 108,
   "metadata": {},
   "outputs": [
    {
     "name": "stdout",
     "output_type": "stream",
     "text": [
      "Adding additional configuration entries: dict_keys(['train_params', 'lr', 'folds'])\n",
      "Configuratron found 2 datasets.\n"
     ]
    }
   ],
   "source": [
    "experiment = ExperimentConfig('configs/downstream.yml')\n",
    "ds_config = experiment.datasets['artifact']\n",
    "ds_config_2 = experiment.datasets['mmidb']"
   ]
  },
  {
   "cell_type": "code",
   "execution_count": 109,
   "metadata": {},
   "outputs": [
    {
     "name": "stderr",
     "output_type": "stream",
     "text": [
      "Scanning data/datasets/artifact. If there are a lot of files, this may take a while...: 100%|██████████| 4/4 [00:00<00:00, 91.41it/s, extension=.gdf]\n"
     ]
    },
    {
     "name": "stdout",
     "output_type": "stream",
     "text": [
      "Creating dataset of 11 Preloaded Epoched recordings from 6 people.\n"
     ]
    },
    {
     "name": "stderr",
     "output_type": "stream",
     "text": [
      "Loading TUH artifact: 100%|██████████| 6/6 [00:01<00:00,  3.22person/s]"
     ]
    },
    {
     "name": "stdout",
     "output_type": "stream",
     "text": [
      ">> TUH artifact | DSID: None | 6 people | 540 trials | 90 channels | 1536 samples/trial | 256.0Hz | 0 transforms\n",
      "Constructed 2 channel maps\n",
      "====================\n",
      "Used by 4 recordings:\n",
      "EEG (original(new)): FP1(FP1) FP2(FP2) F3(F3) F4(F4) C3(C3) C4(C4) P3(P3) P4(P4) O1(O1) O2(O2) F7(F7) F8(F8) T3(T3) T4(T4) T5(T5) T6(T6) FZ(FZ) CZ(CZ) PZ(PZ) \n",
      "EOG (original(new)): \n",
      "REF (original(new)): A1(A1) A2(A2) \n",
      "EXTRA (original(new)): \n",
      "Heuristically Assigned: \n",
      "--------------------\n",
      "Excluded []\n",
      "====================\n",
      "====================\n",
      "Used by 7 recordings:\n",
      "EEG (original(new)): FP1(FP1) FP2(FP2) F3(F3) F4(F4) C3(C3) C4(C4) P3(P3) P4(P4) O1(O1) O2(O2) F7(F7) F8(F8) T3(T3) T4(T4) T5(T5) T6(T6) FZ(FZ) CZ(CZ) PZ(PZ) \n",
      "EOG (original(new)): \n",
      "REF (original(new)): A1(A1) A2(A2) \n",
      "EXTRA (original(new)): \n",
      "Heuristically Assigned: \n",
      "--------------------\n",
      "Excluded []\n",
      "====================\n"
     ]
    },
    {
     "name": "stderr",
     "output_type": "stream",
     "text": [
      "\n"
     ]
    }
   ],
   "source": [
    "dataset = ds_config.auto_construct_dataset()"
   ]
  },
  {
   "cell_type": "code",
   "execution_count": 51,
   "metadata": {},
   "outputs": [],
   "source": [
    "from matplotlib import pyplot as plt"
   ]
  },
  {
   "cell_type": "code",
   "execution_count": 112,
   "metadata": {},
   "outputs": [
    {
     "name": "stderr",
     "output_type": "stream",
     "text": [
      "Scanning data/datasets/artifact. If there are a lot of files, this may take a while...: 100%|██████████| 4/4 [00:00<00:00, 118.50it/s, extension=.gdf]\n"
     ]
    },
    {
     "name": "stdout",
     "output_type": "stream",
     "text": [
      "Creating dataset of 11 Preloaded Epoched recordings from 6 people.\n"
     ]
    },
    {
     "name": "stderr",
     "output_type": "stream",
     "text": [
      "Loading TUH artifact: 100%|██████████| 6/6 [00:01<00:00,  3.67person/s]"
     ]
    },
    {
     "name": "stdout",
     "output_type": "stream",
     "text": [
      ">> TUH artifact | DSID: None | 6 people | 540 trials | 90 channels | 1536 samples/trial | 256.0Hz | 0 transforms\n",
      "Constructed 2 channel maps\n",
      "====================\n",
      "Used by 8 recordings:\n",
      "EEG (original(new)): FP1(FP1) FP2(FP2) F3(F3) F4(F4) C3(C3) C4(C4) P3(P3) P4(P4) O1(O1) O2(O2) F7(F7) F8(F8) T3(T3) T4(T4) T5(T5) T6(T6) FZ(FZ) CZ(CZ) PZ(PZ) \n",
      "EOG (original(new)): \n",
      "REF (original(new)): A1(A1) A2(A2) \n",
      "EXTRA (original(new)): \n",
      "Heuristically Assigned: \n",
      "--------------------\n",
      "Excluded []\n",
      "====================\n",
      "====================\n",
      "Used by 14 recordings:\n",
      "EEG (original(new)): FP1(FP1) FP2(FP2) F3(F3) F4(F4) C3(C3) C4(C4) P3(P3) P4(P4) O1(O1) O2(O2) F7(F7) F8(F8) T3(T3) T4(T4) T5(T5) T6(T6) FZ(FZ) CZ(CZ) PZ(PZ) \n",
      "EOG (original(new)): \n",
      "REF (original(new)): A1(A1) A2(A2) \n",
      "EXTRA (original(new)): \n",
      "Heuristically Assigned: \n",
      "--------------------\n",
      "Excluded []\n",
      "====================\n"
     ]
    },
    {
     "name": "stderr",
     "output_type": "stream",
     "text": [
      "\n"
     ]
    }
   ],
   "source": [
    "gen = utils.get_lmoso_iterator(\"artifact\", ds_config)"
   ]
  }
 ],
 "metadata": {
  "kernelspec": {
   "display_name": "BENDR",
   "language": "python",
   "name": "python3"
  },
  "language_info": {
   "codemirror_mode": {
    "name": "ipython",
    "version": 3
   },
   "file_extension": ".py",
   "mimetype": "text/x-python",
   "name": "python",
   "nbconvert_exporter": "python",
   "pygments_lexer": "ipython3",
   "version": "3.10.9"
  },
  "orig_nbformat": 4,
  "vscode": {
   "interpreter": {
    "hash": "be8fffcb4a1dc2ef8594afdf8f56c6a37005b30d80172b0934bd8081b418c855"
   }
  }
 },
 "nbformat": 4,
 "nbformat_minor": 2
}
